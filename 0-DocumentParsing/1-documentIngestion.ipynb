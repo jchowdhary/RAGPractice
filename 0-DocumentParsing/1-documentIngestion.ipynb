{
 "cells": [
  {
   "cell_type": "markdown",
   "id": "59945e62",
   "metadata": {},
   "source": [
    "### Data Ingestion Project with LangChain 0.3 version"
   ]
  },
  {
   "cell_type": "code",
   "execution_count": null,
   "id": "7db0477e",
   "metadata": {},
   "outputs": [],
   "source": [
    "from langchain_core.documents import Document\n",
    "import os\n",
    "import dotenv\n",
    "dotenv.load_dotenv(dotenv_path=\".env\")\n",
    "import langchain\n",
    "print(\"Langchain Version:\", langchain.__version__)\n",
    "\n",
    "OPENAI_API_KEY = os.getenv(\"OPENAI_API_KEY\")\n",
    "if OPENAI_API_KEY is None:\n",
    "    raise ValueError(\"Please set the OPENAI_API_KEY environment variable.\")\n",
    "print(f\"OpenAI API Key found sucessfully\")"
   ]
  },
  {
   "cell_type": "markdown",
   "id": "5db54a9b",
   "metadata": {},
   "source": [
    "### Using Langchain Document Loaders to load documents from various sources"
   ]
  },
  {
   "cell_type": "code",
   "execution_count": null,
   "id": "ca49818b",
   "metadata": {},
   "outputs": [],
   "source": [
    "doc = Document(\n",
    "    page_content=\"This will be the text which will be stored in the document and retreived later using embeddings.\", \n",
    "    metadata={\n",
    "        \"source\": \"my_source\",\n",
    "        \"author\": \"John Doe\",\n",
    "        \"date\": \"2023-01-01\"\n",
    "    }\n",
    ")\n",
    "print(doc.page_content)  # Print the document to verify its contents"
   ]
  },
  {
   "cell_type": "markdown",
   "id": "43ac3a42",
   "metadata": {},
   "source": [
    "### Add the Text Splitter to split the documents into smaller chunks"
   ]
  },
  {
   "cell_type": "code",
   "execution_count": null,
   "id": "5d2ab776",
   "metadata": {},
   "outputs": [],
   "source": [
    "from langchain.text_splitter import CharacterTextSplitter, RecursiveCharacterTextSplitter,TokenTextSplitter\n"
   ]
  },
  {
   "cell_type": "markdown",
   "id": "77db341f",
   "metadata": {},
   "source": [
    "### Adding sample Text file"
   ]
  },
  {
   "cell_type": "code",
   "execution_count": null,
   "id": "50c932e2",
   "metadata": {},
   "outputs": [],
   "source": [
    "os.makedirs(\"data/text_files\", exist_ok=True)\n",
    "sample_text = {\n",
    "    \"data/text_files/langchainintro.txt\": \"\"\"LangChain is a framework for developing applications powered by language models. \n",
    "It can be used for chatbots, Generative Question-Answering (GQA), summarization, and much more.\"\"\",\n",
    "\"data/text_files/ai.txt\": \"\"\"Artificial Intelligence (AI) refers to the simulation of human intelligence in machines that are programmed to think and learn like humans.\"\"\"}\n",
    "\n",
    "#iterate sample text files and create them\n",
    "for filepath, content in sample_text.items():\n",
    "    with open(filepath, \"w\", encoding=\"utf-8\") as f:\n",
    "        f.write(content)\n",
    "print(f\"Created sample text files in data/text_files/ directory.\")"
   ]
  },
  {
   "cell_type": "markdown",
   "id": "35f02980",
   "metadata": {},
   "source": [
    "### Reading the text file using TextLoader"
   ]
  },
  {
   "cell_type": "code",
   "execution_count": null,
   "id": "af803255",
   "metadata": {},
   "outputs": [],
   "source": [
    "from langchain.document_loaders import TextLoader\n",
    "\n",
    "# reading the text file using TextLoader\n",
    "loader = TextLoader(\"data/text_files/langchainintro.txt\",encoding=\"utf8\")\n",
    "data = loader.load()\n",
    "#It created the Document object containing the page_content and metadata\n",
    "print(data)\n"
   ]
  },
  {
   "cell_type": "markdown",
   "id": "ff0358bc",
   "metadata": {},
   "source": [
    "### Reading multiple files using DirectoryLoader\n",
    "from langchain.document_loaders import DirectoryLoader\n",
    "\n",
    "loader = DirectoryLoader(\"data/text_files\", glob=\"*.txt\", encoding=\"utf8\")\n",
    "data = loader.load()\n",
    "print(data)\n",
    "print(f\"Number of documents loaded: {len(data)}\")"
   ]
  },
  {
   "cell_type": "code",
   "execution_count": null,
   "id": "7a5f099f",
   "metadata": {},
   "outputs": [],
   "source": [
    "from langchain.document_loaders import DirectoryLoader\n",
    "\n",
    "# Correct usage: pass encoding via loader_kwargs\n",
    "loader = DirectoryLoader(\n",
    "    \"data/text_files\",\n",
    "    glob=\"*.txt\",\n",
    "    loader_kwargs={\"encoding\": \"utf8\"}\n",
    ")\n",
    "documents = loader.load()\n",
    "\n",
    "print(documents)\n",
    "print(f\"Number of documents loaded: {len(documents)}\")\n",
    "print(f\"Source of the first document: {documents[0].metadata['source']}\")  # Print metadata of the first document"
   ]
  },
  {
   "cell_type": "markdown",
   "id": "2d706a77",
   "metadata": {},
   "source": [
    "### Now we will use the Text Splitter to split the documents into smaller chunks"
   ]
  },
  {
   "cell_type": "code",
   "execution_count": null,
   "id": "05597094",
   "metadata": {},
   "outputs": [],
   "source": [
    "# CharacterTextSplitter usage for single text document.\n",
    "print(f'document created {data}')\n",
    "textSplitter = CharacterTextSplitter(separator=\" \", chunk_size=50, chunk_overlap=10, length_function=len)\n",
    "texts = textSplitter.split_text(data[0].page_content)\n",
    "print(f\"Number of chunks created: {len(texts)}\")\n",
    "print(type(texts))\n",
    "for i, chunk in enumerate(texts):\n",
    "    print(f\"Chunk {i+1}: {chunk}\")\n",
    "    print('--------------------------------')\n",
    "\n"
   ]
  },
  {
   "cell_type": "markdown",
   "id": "eb1a2fd9",
   "metadata": {},
   "source": [
    "### Now we will use CharacterTextSplitter to split the Directory documents into smaller chunks"
   ]
  },
  {
   "cell_type": "code",
   "execution_count": null,
   "id": "1352afa2",
   "metadata": {},
   "outputs": [],
   "source": [
    "print(f'documents created from directory {documents}')\n",
    "docSplitter = CharacterTextSplitter(separator=\"\", chunk_size=50, chunk_overlap=10, length_function=len)\n",
    "# for doc in documents:\n",
    "#     texts = docSplitter.split_text(doc.page_content)\n",
    "#     print(f\"Number of chunks created for document {doc.id}: {len(texts)}\")\n",
    "#     for i, chunk in enumerate(texts):\n",
    "#         print(f\"Chunk {i+1}: {chunk}\")\n",
    "#         print('--------------------------------')\n",
    "\n",
    "# showing how we can use spilt documents to create Document objects\n",
    "splitdocs = docSplitter.split_documents(documents)\n",
    "print(f\"Number of split Document objects created: {len(splitdocs)}\")\n",
    "print(type(splitdocs))\n",
    "for i, chunk in enumerate(splitdocs[i].page_content for i in range(len(splitdocs))):\n",
    "    print(f\"Document Chunk {i+1}: {chunk}\")\n",
    "    print('--------------------------------')\n",
    "\n",
    "#print(f\"First split document content: {splitdocs[0].page_content}\")\n"
   ]
  },
  {
   "cell_type": "code",
   "execution_count": null,
   "id": "547263cf",
   "metadata": {},
   "outputs": [],
   "source": [
    "# Using RecursiveCharacterTextSplitter for single text document.\n",
    "recTextSplitter = RecursiveCharacterTextSplitter(\n",
    "    separators=[\"\\n\\n\", \"\\n\", \" \",\"\"], chunk_size=50, \n",
    "    chunk_overlap=10,length_function=len)\n",
    "rec_texts = recTextSplitter.split_documents(documents)\n",
    "#splitdocs = docSplitter.split_documents(documents)\n",
    "print(f\"Number of split Document objects created: {len(rec_texts)}\")\n",
    "print(type(rec_texts))\n",
    "for i, chunk in enumerate(rec_texts[i].page_content for i in range(len(rec_texts))):\n",
    "    print(f\"Document Chunk {i+1}: {chunk}\")\n",
    "    print('--------------------------------')"
   ]
  },
  {
   "cell_type": "markdown",
   "id": "8722745c",
   "metadata": {},
   "source": [
    "#### Once chunks are created, we will use embeddings to convert text into vectors"
   ]
  },
  {
   "cell_type": "code",
   "execution_count": null,
   "id": "8c6efe76",
   "metadata": {},
   "outputs": [],
   "source": [
    "from langchain.embeddings import OpenAIEmbeddings\n",
    "embeddings = OpenAIEmbeddings(openai_api_key=OPENAI_API_KEY,model=\"text-embedding-3-small\")\n",
    "print(embeddings)"
   ]
  }
 ],
 "metadata": {
  "kernelspec": {
   "display_name": "RAGUdemy (3.11.4)",
   "language": "python",
   "name": "python3"
  },
  "language_info": {
   "codemirror_mode": {
    "name": "ipython",
    "version": 3
   },
   "file_extension": ".py",
   "mimetype": "text/x-python",
   "name": "python",
   "nbconvert_exporter": "python",
   "pygments_lexer": "ipython3",
   "version": "3.11.4"
  }
 },
 "nbformat": 4,
 "nbformat_minor": 5
}