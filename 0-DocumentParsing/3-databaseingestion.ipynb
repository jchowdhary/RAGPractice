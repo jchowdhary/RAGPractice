{
 "cells": [
  {
   "cell_type": "code",
   "execution_count": null,
   "id": "5fd28370",
   "metadata": {},
   "outputs": [],
   "source": [
    "import os\n",
    "import langchain\n",
    "\n",
    "from langchain_core.documents import Document\n",
    "from langchain_community.document_loaders import UnstructuredPDFLoader\n",
    "from langchain_community.document_loaders import PyMuPDFLoader\n",
    "from langchain_community.document_loaders import PyPDFLoader\n",
    "import dotenv\n",
    "\n",
    "dotenv_path = os.path.join(os.path.dirname('.env'))\n",
    "if os.path.exists(dotenv_path):\n",
    "    dotenv.load_dotenv(dotenv_path)\n",
    "\n",
    "OPENAI_API_KEY = os.getenv(\"OPENAI_API_KEY\")\n",
    "print('sucessfully loaded the env')"
   ]
  },
  {
   "cell_type": "markdown",
   "id": "d3598e30",
   "metadata": {},
   "source": [
    "### create sample SQLLite database\n",
    "\n",
    "```sql"
   ]
  },
  {
   "cell_type": "code",
   "execution_count": null,
   "id": "fe35421b",
   "metadata": {},
   "outputs": [],
   "source": [
    "import sqlite3\n",
    "\n",
    "os.makedirs('data/database', exist_ok=True)\n",
    "conn = sqlite3.connect('data/database/example.db')\n",
    "c = conn.cursor()\n",
    "c.execute('DROP TABLE IF EXISTS departments')\n",
    "c.execute('DROP TABLE IF EXISTS employees')\n",
    "c.execute('''\n",
    "CREATE TABLE IF NOT EXISTS employees (\n",
    "    id INTEGER PRIMARY KEY,\n",
    "    name TEXT NOT NULL,\n",
    "    description TEXT,\n",
    "    salary REAL NOT NULL,\n",
    "    departId INTEGER,\n",
    "    FOREIGN KEY (departId) REFERENCES departments(id)\n",
    ")\n",
    "''')\n",
    "\n",
    "c.execute('''\n",
    "CREATE TABLE IF NOT EXISTS departments (\n",
    "    id INTEGER PRIMARY KEY NOT NULL,\n",
    "    name TEXT NOT NULL,\n",
    "    description TEXT\n",
    ")\n",
    "''')"
   ]
  },
  {
   "cell_type": "markdown",
   "id": "9d1d92e2",
   "metadata": {},
   "source": [
    "### Insert records into the Employees table and Departments table\n",
    "    \n",
    "```\n",
    "```"
   ]
  },
  {
   "cell_type": "code",
   "execution_count": null,
   "id": "5a181756",
   "metadata": {},
   "outputs": [],
   "source": [
    "# INSERT INTO Employees (name, age, department_id) VALUES ('Alice', 30, 1);\n",
    "# INSERT INTO Employees (name, age, department_id) VALUES ('Bob', 25, 2);\n",
    "# INSERT INTO Employees (name, age, department_id) VALUES ('Charlie', 35, 1);\n",
    "# INSERT INTO Employees (name, age, department_id) VALUES ('David', 28, 3);\n",
    "# INSERT INTO Employees (name, age, department_id) VALUES ('Eve', 32, 2);\n",
    "# INSERT INTO Departments (name) VALUES ('HR');\n",
    "# INSERT INTO Departments (name) VALUES ('Engineering');\n",
    "# INSERT INTO Departments (name) VALUES ('Marketing');\n",
    "\n",
    "employees = [\n",
    "    ('Alice', 'Senior software engineer with 5 years of experience in backend development.', 90000, 2),\n",
    "    ('Bob', 'Marketing specialist with a focus on digital campaigns and social media.', 60000, 3),\n",
    "    ('Charlie', 'HR manager with expertise in recruitment and employee relations.', 75000, 1),\n",
    "    ('David', 'Junior developer with a passion for learning new technologies.', 50000, 2),\n",
    "    ('Eve', 'Sales executive with a track record of exceeding targets.', 65000, 3)\n",
    "]\n",
    "departments = [\n",
    "    (1,'HR', 'Handles recruitment, employee relations, and benefits.'),\n",
    "    (2,'Engineering', 'Responsible for product development and maintenance.'),\n",
    "    (3,'Marketing', 'Focuses on market research, advertising, and promotions.') \n",
    "]\n"
   ]
  },
  {
   "cell_type": "code",
   "execution_count": null,
   "id": "474ca240",
   "metadata": {},
   "outputs": [],
   "source": [
    "c.execute('DELETE FROM departments')\n",
    "c.executemany('INSERT INTO departments (id, name, description) VALUES (?, ?, ?)', departments)\n",
    "c.executemany('INSERT INTO employees (name, description, salary, departId) VALUES (?, ?, ?, ?)', employees)\n",
    "conn.commit()"
   ]
  },
  {
   "cell_type": "code",
   "execution_count": null,
   "id": "78122c3f",
   "metadata": {},
   "outputs": [],
   "source": [
    "c.execute('SELECT * FROM employees, departments WHERE employees.departId = departments.id')\n",
    "conn.close()"
   ]
  },
  {
   "cell_type": "markdown",
   "id": "29b3b253",
   "metadata": {},
   "source": [
    "### Database Content Process"
   ]
  },
  {
   "cell_type": "code",
   "execution_count": null,
   "id": "93b601bd",
   "metadata": {},
   "outputs": [],
   "source": [
    "# Method 1: Using LangChain's SQLDatabase\n",
    "from langchain_community.utilities import SQLDatabase\n",
    "\n",
    "# Method 2: Using Langchain\n",
    "from langchain.sql_database import SQLDatabase\n",
    "\n",
    "# Usage example:\n",
    "db = SQLDatabase.from_uri(\"sqlite:///data/database/example.db\")\n",
    "\n",
    "print(f' Tables are : {db.get_usable_table_names()}')\n",
    "print(f' Table info : {db.get_table_info()}')\n",
    "\n",
    "\n"
   ]
  },
  {
   "cell_type": "markdown",
   "id": "4b59dded",
   "metadata": {},
   "source": [
    "### Parse the data and create a Document List"
   ]
  },
  {
   "cell_type": "code",
   "execution_count": null,
   "id": "43891c80",
   "metadata": {},
   "outputs": [],
   "source": [
    "from typing import List\n",
    "from langchain_core.documents import Document\n",
    "\n",
    "## Iterate all tables and put in Document List\n",
    "def sql_to_doc(db_path:str) -> List[Document]:\n",
    "    db = SQLDatabase.from_uri(f\"sqlite:///{db_path}\")\n",
    "    table_names = db.get_usable_table_names()\n",
    "    documents = []\n",
    "    for table in table_names:\n",
    "        query = f\"SELECT * FROM {table}\"\n",
    "        result = db.run(query)\n",
    "        content = f\"Table: {table}\\n{result}\"\n",
    "        print(f'\\n{content}\\n')\n",
    "        documents.append(Document(page_content=content, metadata={\"table\": table}))\n",
    "    return documents\n",
    "\n",
    "documents = sql_to_doc('data/database/example.db')\n",
    "print(f'Number of documents created from DB: {len(documents)}')\n",
    "for doc in documents:\n",
    "    print(doc.page_content)\n",
    "    print('---')\n",
    "    print(f'Metadata: {doc.metadata}')\n",
    "\n",
    "\n",
    "# def sql_to_doc_v2(db_path:str) -> List[Document]:\n",
    "#     db = SQLDatabase.from_uri(f\"sqlite:///{db_path}\")\n",
    "#     c = db.cursor()\n",
    "#     c.execute(\"SELECT name FROM sqlite_master WHERE type='table';\")\n",
    "#     table_names = [row[0] for row in c.fetchall()]\n",
    "#     documents = []\n",
    "#     for table in table_names:\n",
    "#         print(f'Table found: {table}')\n",
    "#         c.execute(f\"SELECT * FROM {table}\")\n",
    "#         rows = c.fetchall()\n",
    "#         row_count = len(rows)\n",
    "#         print(f'Number of rows in {table}: {row_count}')\n",
    "#         documents.append(Document(page_content=str(rows), \n",
    "#                                       metadata={\"table\": table}))\n",
    "\n",
    "#         for row in rows:\n",
    "#             print(row)\n",
    "           \n",
    "\n",
    "\n",
    "    # documents = []\n",
    "    # for table in table_names:\n",
    "    #     query = f\"SELECT * FROM {table}\"\n",
    "    #     result = db.run(query)\n",
    "    #     content = f\"Table: {table}\\n{result}\"\n",
    "    #     print(f'\\n{content}\\n')\n",
    "    #     documents.append(Document(page_content=content, metadata={\"table\": table}))\n",
    "    # return documents\n",
    "\n"
   ]
  },
  {
   "cell_type": "code",
   "execution_count": null,
   "id": "c3f19519",
   "metadata": {},
   "outputs": [],
   "source": [
    "import sqlite3\n",
    "import json\n",
    "from langchain_core.documents import Document\n",
    "\n",
    "def sql_to_doc_dict(db_path: str):\n",
    "    conn = sqlite3.connect(db_path)\n",
    "    c = conn.cursor()\n",
    "    c.execute(\"SELECT name FROM sqlite_master WHERE type='table';\")\n",
    "    table_names = [row[0] for row in c.fetchall()]\n",
    "    documents = []\n",
    "    for table in table_names:\n",
    "        print(f'Table found: {table}')\n",
    "        c.execute(f\"SELECT * FROM {table}\")\n",
    "        rows = c.fetchall()\n",
    "        col_names = [desc[0] for desc in c.description]\n",
    "        dict_rows = [dict(zip(col_names, row)) for row in rows]\n",
    "        print(f'Number of rows in {table}: {len(dict_rows)}')\n",
    "        # Convert list of dicts to JSON string for page_content\n",
    "        documents.append(\n",
    "            Document(page_content=json.dumps(dict_rows, indent=2),\n",
    "                     metadata={\"table\": table, \"source\": db_path, \"num_rows\": len(dict_rows)})\n",
    "        )\n",
    "    conn.close()\n",
    "    return documents\n",
    "\n",
    "# Usage\n",
    "documents = sql_to_doc_dict('data/database/example.db')\n",
    "print(f'Number of documents created from DB: {len(documents)}')\n",
    "for doc in documents:\n",
    "    print(doc.page_content)\n",
    "    print('---')\n",
    "    print(f'Metadata: {doc.metadata}')"
   ]
  }
 ],
 "metadata": {
  "kernelspec": {
   "display_name": "RAGUdemy (3.11.4)",
   "language": "python",
   "name": "python3"
  },
  "language_info": {
   "codemirror_mode": {
    "name": "ipython",
    "version": 3
   },
   "file_extension": ".py",
   "mimetype": "text/x-python",
   "name": "python",
   "nbconvert_exporter": "python",
   "pygments_lexer": "ipython3",
   "version": "3.11.4"
  }
 },
 "nbformat": 4,
 "nbformat_minor": 5
}